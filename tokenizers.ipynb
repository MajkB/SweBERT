{
 "cells": [
  {
   "cell_type": "markdown",
   "metadata": {},
   "source": [
    "# Tokenizer installation\n",
    "\n",
    "pip install tokenizers\n",
    "\n",
    "Please see \n",
    "- https://github.com/huggingface/tokenizers/blob/master/README.md\n",
    "- https://github.com/huggingface/tokenizers/tree/master/bindings/python"
   ]
  },
  {
   "cell_type": "code",
   "execution_count": 1,
   "metadata": {},
   "outputs": [],
   "source": [
    "from tokenizers import BertWordPieceTokenizer\n",
    "from tokenizers.processors import BertProcessing\n",
    "import torch\n",
    "from transformers import BertForMaskedLM "
   ]
  },
  {
   "cell_type": "code",
   "execution_count": 2,
   "metadata": {},
   "outputs": [],
   "source": [
    "tokenizer = BertWordPieceTokenizer(\"bert-base-swedish-uncased-vocab.txt\", lowercase=True, strip_accents=False)"
   ]
  },
  {
   "cell_type": "code",
   "execution_count": 3,
   "metadata": {},
   "outputs": [],
   "source": [
    "example = \"Jag är ett barn, och det här är mitt hem. Alltså är det ett barnhem!\"\n",
    "\n",
    "output = tokenizer.encode(example)"
   ]
  },
  {
   "cell_type": "code",
   "execution_count": 14,
   "metadata": {},
   "outputs": [
    {
     "name": "stdout",
     "output_type": "stream",
     "text": [
      "barn\n"
     ]
    }
   ],
   "source": [
    "print(output.tokens[17])"
   ]
  },
  {
   "cell_type": "code",
   "execution_count": 6,
   "metadata": {},
   "outputs": [],
   "source": [
    "indexed_tokens = output.ids\n",
    "masked_index = 17  # 'barn'\n",
    "indexed_tokens[masked_index] = tokenizer.token_to_id('[MASK]')"
   ]
  },
  {
   "cell_type": "code",
   "execution_count": 7,
   "metadata": {},
   "outputs": [
    {
     "name": "stdout",
     "output_type": "stream",
     "text": [
      "tensor([[ 101, 1112, 1100, 1115, 1255, 1010, 1095, 1102, 1174, 1100, 1352, 1345,\n",
      "         1012, 1492, 1100, 1102, 1115,  103, 2760,  999,  102]])\n"
     ]
    }
   ],
   "source": [
    "indexed_tokens_tensor = torch.tensor([indexed_tokens])\n",
    "print(indexed_tokens_tensor)"
   ]
  },
  {
   "cell_type": "code",
   "execution_count": 8,
   "metadata": {},
   "outputs": [],
   "source": [
    "model = BertForMaskedLM.from_pretrained('af-ai-center/bert-base-swedish-uncased')\n",
    "_ = model.eval()"
   ]
  },
  {
   "cell_type": "code",
   "execution_count": 9,
   "metadata": {},
   "outputs": [
    {
     "name": "stdout",
     "output_type": "stream",
     "text": [
      "torch.Size([1, 21, 30522])\n"
     ]
    }
   ],
   "source": [
    "# predict all tokens\n",
    "with torch.no_grad():\n",
    "    outputs = model(indexed_tokens_tensor)\n",
    "\n",
    "predictions = outputs[0]\n",
    "print(predictions.shape)  # 1 example, 21 tokens, 30522 vocab size"
   ]
  },
  {
   "cell_type": "code",
   "execution_count": 10,
   "metadata": {},
   "outputs": [
    {
     "name": "stdout",
     "output_type": "stream",
     "text": [
      "tensor(1255)\n"
     ]
    }
   ],
   "source": [
    "# show predicted index for masked token\n",
    "predicted_index = torch.argmax(predictions[0, masked_index])\n",
    "print(predicted_index)"
   ]
  },
  {
   "cell_type": "code",
   "execution_count": 11,
   "metadata": {},
   "outputs": [],
   "source": [
    "# show top5 predicted index for masked token\n",
    "predicted_index_top5 = torch.argsort(predictions[0, masked_index], descending=True)[:5]"
   ]
  },
  {
   "cell_type": "code",
   "execution_count": 12,
   "metadata": {},
   "outputs": [
    {
     "data": {
      "text/plain": [
       "'barn foster barndoms dock dag'"
      ]
     },
     "execution_count": 12,
     "metadata": {},
     "output_type": "execute_result"
    }
   ],
   "source": [
    "tokenizer.decode(predicted_index_top5.numpy())"
   ]
  },
  {
   "cell_type": "code",
   "execution_count": 13,
   "metadata": {},
   "outputs": [
    {
     "name": "stdout",
     "output_type": "stream",
     "text": [
      "jag är ett barn, och det här är mitt hem. alltså är det ett barnhem!\n",
      "jag är ett barn, och det här är mitt hem. alltså är det ett fosterhem!\n",
      "jag är ett barn, och det här är mitt hem. alltså är det ett barndomshem!\n",
      "jag är ett barn, och det här är mitt hem. alltså är det ett dockhem!\n",
      "jag är ett barn, och det här är mitt hem. alltså är det ett daghem!\n"
     ]
    }
   ],
   "source": [
    "# show top5 predicted masked token\n",
    "for predicted_index in predicted_index_top5:\n",
    "    predicted_token = tokenizer.id_to_token(predicted_index)\n",
    "    text = output.original_str[:output.offsets[masked_index][0]] + predicted_token + output.original_str[output.offsets[masked_index][1]:]\n",
    "    print(text)"
   ]
  },
  {
   "cell_type": "code",
   "execution_count": null,
   "metadata": {},
   "outputs": [],
   "source": []
  }
 ],
 "metadata": {
  "kernelspec": {
   "display_name": "Python 3",
   "language": "python",
   "name": "python3"
  },
  "language_info": {
   "codemirror_mode": {
    "name": "ipython",
    "version": 3
   },
   "file_extension": ".py",
   "mimetype": "text/x-python",
   "name": "python",
   "nbconvert_exporter": "python",
   "pygments_lexer": "ipython3",
   "version": "3.7.4"
  }
 },
 "nbformat": 4,
 "nbformat_minor": 4
}
