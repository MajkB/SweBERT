{
 "cells": [
  {
   "cell_type": "raw",
   "metadata": {},
   "source": [
    "This notebook serves to\n",
    "1. Check SweBERT Model Accessibility\n",
    "\n",
    "and to demonstrate a\n",
    "2. Simple Model Application (Masked Token Prediction)"
   ]
  },
  {
   "cell_type": "raw",
   "metadata": {},
   "source": [
    "Note: Make sure to run this notebook in a virtual environment with the libraries listed in requirements.txt installed"
   ]
  },
  {
   "cell_type": "code",
   "execution_count": null,
   "metadata": {},
   "outputs": [],
   "source": [
    "import torch\n",
    "import tensorflow as tf\n",
    "from transformers import BertTokenizer, BertModel, TFBertModel, BertForMaskedLM \n",
    "\n",
    "import warnings; warnings.filterwarnings('ignore')"
   ]
  },
  {
   "cell_type": "markdown",
   "metadata": {},
   "source": [
    "# 0. Choose SweBERT model"
   ]
  },
  {
   "cell_type": "raw",
   "metadata": {},
   "source": [
    "We have to choose one of the pretrained SweBERT models (base/large):"
   ]
  },
  {
   "cell_type": "code",
   "execution_count": null,
   "metadata": {},
   "outputs": [],
   "source": [
    "pretrained_model_name = 'af-ai-center/bert-base-swedish-uncased'"
   ]
  },
  {
   "cell_type": "markdown",
   "metadata": {},
   "source": [
    "# 1. Check SweBERT Model Accessibility"
   ]
  },
  {
   "cell_type": "raw",
   "metadata": {},
   "source": [
    "First, we are going to check that the chosen pretrained SweBERT model is accessible through the transformers library.\n",
    "If it is, we should be able to instantiate a tokenizer and a (PyTorch/TensorFlow) model from it. \n",
    "\n",
    "Note that this may take a while the first time you run it as the model needs to be downloaded. "
   ]
  },
  {
   "cell_type": "markdown",
   "metadata": {},
   "source": [
    "### a. Tokenizer"
   ]
  },
  {
   "cell_type": "code",
   "execution_count": null,
   "metadata": {},
   "outputs": [],
   "source": [
    "tokenizer = BertTokenizer.from_pretrained(pretrained_model_name, do_lower_case=False)"
   ]
  },
  {
   "cell_type": "markdown",
   "metadata": {},
   "source": [
    "### b. Model PyTorch"
   ]
  },
  {
   "cell_type": "code",
   "execution_count": null,
   "metadata": {},
   "outputs": [],
   "source": [
    "model = BertModel.from_pretrained(pretrained_model_name)"
   ]
  },
  {
   "cell_type": "markdown",
   "metadata": {},
   "source": [
    "### c. Model TensorFlow"
   ]
  },
  {
   "cell_type": "code",
   "execution_count": null,
   "metadata": {},
   "outputs": [],
   "source": [
    "model = TFBertModel.from_pretrained(pretrained_model_name)"
   ]
  },
  {
   "cell_type": "markdown",
   "metadata": {},
   "source": [
    "# 2. Simple Model Application (Masked Token Prediction)"
   ]
  },
  {
   "cell_type": "raw",
   "metadata": {},
   "source": [
    "We are now going to apply the (PyTorch) SweBERT model on an example sentence,\n",
    "loosely following https://huggingface.co/transformers/quickstart.html#quick-tour-usage\n",
    "\n",
    "We will\n",
    "1. Preprocess the example\n",
    "2. Tokenize the preprocessed example\n",
    "3. Mask one of the tokens\n",
    "4. Prepare the tokens for use with SweBERT\n",
    "5. Use SweBERT to predict back the masked token"
   ]
  },
  {
   "cell_type": "code",
   "execution_count": null,
   "metadata": {},
   "outputs": [],
   "source": [
    "example = 'Jag är ett barn, och det här är mitt hem. Alltså är det ett barnhem!'\n",
    "example"
   ]
  },
  {
   "cell_type": "markdown",
   "metadata": {},
   "source": [
    "### 1. Preprocess the example"
   ]
  },
  {
   "cell_type": "markdown",
   "metadata": {},
   "source": [
    "#### a. lowercase "
   ]
  },
  {
   "cell_type": "raw",
   "metadata": {},
   "source": [
    "The pretrained SweBERT models are uncased. \n",
    "\n",
    "In principle, there are 2 options to account for this:\n",
    "i)  manually lowercase all text before tokenization (using the string method .lower())\n",
    "ii) let the BertTokenizer take care of lowercasing  (using the parameter do_lower_case=True)\n",
    "\n",
    "We opt for i) because the BertTokenizer does not handle the Swedish letter 'å' properly (it gets replaced by 'a' when do_lower_case=True)."
   ]
  },
  {
   "cell_type": "code",
   "execution_count": null,
   "metadata": {},
   "outputs": [],
   "source": [
    "example_uncased = example.lower()\n",
    "example_uncased"
   ]
  },
  {
   "cell_type": "markdown",
   "metadata": {},
   "source": [
    "#### b. special tokens "
   ]
  },
  {
   "cell_type": "raw",
   "metadata": {},
   "source": [
    "The input of BERT models needs to be provided with special tokens '[CLS]' and '[SEP]':"
   ]
  },
  {
   "cell_type": "code",
   "execution_count": null,
   "metadata": {},
   "outputs": [],
   "source": [
    "example_preprocessed = f'[CLS] {example_uncased} [SEP]'\n",
    "example_preprocessed"
   ]
  },
  {
   "cell_type": "markdown",
   "metadata": {},
   "source": [
    "### 2. Tokenize the preprocessed example"
   ]
  },
  {
   "cell_type": "code",
   "execution_count": null,
   "metadata": {},
   "outputs": [],
   "source": [
    "tokenizer = BertTokenizer.from_pretrained(pretrained_model_name, do_lower_case=False)  # see"
   ]
  },
  {
   "cell_type": "code",
   "execution_count": null,
   "metadata": {},
   "outputs": [],
   "source": [
    "tokens = tokenizer.tokenize(example_preprocessed)\n",
    "\n",
    "print(f'{len(tokens)} tokens:')\n",
    "print(tokens)"
   ]
  },
  {
   "cell_type": "markdown",
   "metadata": {},
   "source": [
    "### 3. Mask one of the tokens"
   ]
  },
  {
   "cell_type": "code",
   "execution_count": null,
   "metadata": {},
   "outputs": [],
   "source": [
    "masked_index = 17  # 'barn'\n",
    "tokens[masked_index] = '[MASK]'\n",
    "\n",
    "print(tokens)"
   ]
  },
  {
   "cell_type": "markdown",
   "metadata": {},
   "source": [
    "### 4. Prepare the tokens for use with SweBERT"
   ]
  },
  {
   "cell_type": "code",
   "execution_count": null,
   "metadata": {},
   "outputs": [],
   "source": [
    "indexed_tokens = tokenizer.convert_tokens_to_ids(tokens)"
   ]
  },
  {
   "cell_type": "code",
   "execution_count": null,
   "metadata": {},
   "outputs": [],
   "source": [
    "indexed_tokens_tensor = torch.tensor([indexed_tokens])\n",
    "print(indexed_tokens_tensor)"
   ]
  },
  {
   "cell_type": "markdown",
   "metadata": {},
   "source": [
    "### 5. Use SweBERT to predict back the masked token"
   ]
  },
  {
   "cell_type": "code",
   "execution_count": null,
   "metadata": {},
   "outputs": [],
   "source": [
    "# instantiate model\n",
    "model = BertForMaskedLM.from_pretrained(pretrained_model_name)\n",
    "_ = model.eval()"
   ]
  },
  {
   "cell_type": "code",
   "execution_count": null,
   "metadata": {},
   "outputs": [],
   "source": [
    "# predict all tokens\n",
    "with torch.no_grad():\n",
    "    outputs = model(indexed_tokens_tensor)\n",
    "\n",
    "predictions = outputs[0]\n",
    "print(predictions.shape)  # 1 example, 21 tokens, 30522 vocab size"
   ]
  },
  {
   "cell_type": "code",
   "execution_count": null,
   "metadata": {},
   "outputs": [],
   "source": [
    "# show predicted index for masked token\n",
    "predicted_index = torch.argmax(predictions[0, masked_index]).item()\n",
    "print(predicted_index)"
   ]
  },
  {
   "cell_type": "code",
   "execution_count": null,
   "metadata": {},
   "outputs": [],
   "source": [
    "# show predicted masked token\n",
    "predicted_token = tokenizer.convert_ids_to_tokens([predicted_index])[0]\n",
    "print(predicted_token)"
   ]
  },
  {
   "cell_type": "code",
   "execution_count": null,
   "metadata": {},
   "outputs": [],
   "source": [
    "assert predicted_token == 'barn'"
   ]
  },
  {
   "cell_type": "markdown",
   "metadata": {},
   "source": [
    "# Conclusions"
   ]
  },
  {
   "cell_type": "raw",
   "metadata": {},
   "source": [
    "- We have checked the accessibility of the SweBERT models through the transformers library. \n",
    "- We have demonstrated a very simple model application, where the SweBERT model successfully predicts a masked token.\n",
    "\n",
    "For additional use cases and information, we refer to the documentation of the transformers library. "
   ]
  }
 ],
 "metadata": {
  "kernelspec": {
   "display_name": "venv-nlp-swebert",
   "language": "python",
   "name": "venv-nlp-swebert"
  },
  "language_info": {
   "codemirror_mode": {
    "name": "ipython",
    "version": 3
   },
   "file_extension": ".py",
   "mimetype": "text/x-python",
   "name": "python",
   "nbconvert_exporter": "python",
   "pygments_lexer": "ipython3",
   "version": "3.6.9"
  }
 },
 "nbformat": 4,
 "nbformat_minor": 4
}
